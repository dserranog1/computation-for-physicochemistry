{
 "cells": [
  {
   "cell_type": "code",
   "execution_count": 51,
   "metadata": {},
   "outputs": [],
   "source": [
    "import numpy as np"
   ]
  },
  {
   "cell_type": "markdown",
   "metadata": {},
   "source": [
    "# Modelo de reacción-difusión de Gray-Scott\n",
    "\n",
    "El sistema Gray-Scott modela la siguiente reacción química:\n",
    "\n",
    "$$\n",
    "U + 2V \\rightarrow 3V \n",
    "$$\n",
    "$$\n",
    "V \\rightarrow P\n",
    "$$\n",
    "\n",
    "Donde $U$, $V$ y $P$ son especies químicas genéricas. Este sistema simula cómo estas sustancias reaccionan entre sí y se difunden a través de un medio. En el caso de la reacción Gray-Scott la sustancia $U$ se agota, mientras la sustancia $V$ se produce.\n",
    "El comportamiento general del sistema se describe mediante las siguientes ecuaciones, que representan factores de aumento o disminución en la concentración de cada una de las sustancias:\n",
    "\n",
    "$$\n",
    "\\begin{array}{l}\n",
    "\\displaystyle u' = \\frac{\\partial u}{\\partial t} = D_u \\nabla^2 u - uv^2 + F(1-u) \\\\\n",
    "\\displaystyle v' = \\frac{\\partial v}{\\partial t} = D_v \\nabla^2 v + uv^2 - (F+k)v\n",
    "\\end{array}\n",
    "$$\n",
    "\n",
    "### Donde:\n",
    "\n",
    "- $D_u \\nabla^2 u \\text{ y } D_v \\nabla^2 v$ representan la **Difusión**: \n",
    "   - Este término representa el **movimiento o difusión** de las sustancias $U$ y $V$ hacia sus celdas vecinas.\n",
    "   - $\\nabla^2$ es el operador Laplaciano, que calcula la diferencia entre el valor promedio de las celdas vecinas y la celda actual.\n",
    "   - Esta simulación de difusión permite que $U$ y $V$ se extiendan por el medio, causando que sus concentraciones se parezcan más a las de sus vecinos cercanos. Esto es finalmente lo que ayuda a formar patrones en el sistema.\n",
    "\n",
    "- $-uv^2 \\text{ en } U \\text{ y } +uv^2 \\text{ en } V$ representa la **Reacción**: \n",
    "   - Describe la **reacción química** entre $U$ y $V$.\n",
    "   - Una molécula de $U$ y dos de $V$ se combinan para convertir $U$ en $V$. \n",
    "   - $U$ pierde concentración a un ritmo de $-uv^2$, \n",
    "   - $V$ gana concentración a un ritmo de $+uv^2$.\n",
    "\n",
    "- $f(1 - u)$ representa la **entrada constante** de $U$ a la celda\n",
    "   -  asegurando que siempre haya suministro de $U$ para la reacción.\n",
    "   - El factor $f$ controla la tasa de alimentación de $U$, mientras que $(1 - u)$ asegura que $U$ no exceda un límite máximo de 1.0, lo cual mantiene el sistema en un rango estable.\n",
    "\n",
    "- $-(k + f) B$ controla la **reducción de $V$**,\n",
    "   - eliminando concentración de manera constante para que $V$ no se acumule indefinidamente.\n",
    "   - Al restar una cantidad proporcional a $(k + f) V$, se asegura que $V$ se mantenga en equilibrio con $U$, evitando que el sistema colapse en un estado con exceso de $V$.\n",
    "\n",
    "- $\\Delta t$ representa el paso del tiempo\n"
   ]
  },
  {
   "cell_type": "markdown",
   "metadata": {},
   "source": [
    "# Inicialización\n",
    "\n",
    "Inicialmente $v$ es 0 y $u$ es 1 en todo el dominio, excepto en el centro, donde $ u = 0.5 $ y $v = 0.25$. A partir de esta zona es donde se empezarán a generar los patrones en la simulación"
   ]
  },
  {
   "cell_type": "code",
   "execution_count": 52,
   "metadata": {},
   "outputs": [],
   "source": [
    "def init(n):\n",
    "    u = np.ones((n + 2, n + 2))\n",
    "    v = np.zeros((n + 2, n + 2))\n",
    "\n",
    "    x, y = np.meshgrid(np.linspace(0, 1, n + 2), np.linspace(0, 1, n + 2))\n",
    "\n",
    "    mask = (0.4 < x) & (x < 0.6) & (0.4 < y) & (y < 0.6)\n",
    "\n",
    "    u[mask] = 0.50\n",
    "    v[mask] = 0.25\n",
    "\n",
    "    return u, v"
   ]
  },
  {
   "cell_type": "markdown",
   "metadata": {},
   "source": [
    "# Condición de frontera\n",
    "\n",
    "Para esta simulación, asumiremos que la frontera es periódica"
   ]
  },
  {
   "cell_type": "code",
   "execution_count": 53,
   "metadata": {},
   "outputs": [],
   "source": [
    "def periodic_bc(u):\n",
    "    u[0, :] = u[-2, :]\n",
    "    u[-1, :] = u[1, :]\n",
    "    u[:, 0] = u[:, -2]\n",
    "    u[:, -1] = u[:, 1]"
   ]
  },
  {
   "cell_type": "markdown",
   "metadata": {},
   "source": [
    "# Laplaciano Discreto\n",
    "\n",
    "Utilizaremos la fórmula del Laplaciano Discreto en una celda $(i,j)$, definido como:\n",
    "\n",
    "$$\n",
    "\\nabla^2 u_{i,j} \\approx u_{i,j-1} + u_{i-1,j} - 4u_{i,j} + u_{i+1,j} + u_{i,j+1}\n",
    "$$"
   ]
  },
  {
   "cell_type": "code",
   "execution_count": 54,
   "metadata": {},
   "outputs": [],
   "source": [
    "def laplacian(u):\n",
    "    return u[:-2, 1:-1] + u[1:-1, :-2] - 4 * u[1:-1, 1:-1] + u[1:-1, 2:] + +u[2:, 1:-1]"
   ]
  },
  {
   "cell_type": "markdown",
   "metadata": {},
   "source": [
    "# Modelo Gray-Scott"
   ]
  },
  {
   "cell_type": "code",
   "execution_count": 55,
   "metadata": {},
   "outputs": [],
   "source": [
    "def numpy_grayscott(U, V, Du, Dv, F, k):\n",
    "    \n",
    "    u, v = U[1:-1,1:-1], V[1:-1,1:-1]\n",
    "\n",
    "    Lu = laplacian(U)\n",
    "    Lv = laplacian(V)\n",
    "\n",
    "    uvv = u*v*v\n",
    "    u += Du*Lu - uvv + F*(1 - u)\n",
    "    v += Dv*Lv + uvv - (F + k)*v\n",
    "\n",
    "    periodic_bc(U)\n",
    "    periodic_bc(V)\n",
    "    \n",
    "    return U, V"
   ]
  },
  {
   "cell_type": "markdown",
   "metadata": {},
   "source": [
    "# Parámetros"
   ]
  },
  {
   "cell_type": "code",
   "execution_count": 56,
   "metadata": {},
   "outputs": [],
   "source": [
    "Du, Dv = .1, .05\n",
    "F, k = 0.03, 0.06"
   ]
  },
  {
   "cell_type": "markdown",
   "metadata": {},
   "source": [
    "# Visualización"
   ]
  },
  {
   "cell_type": "code",
   "execution_count": 57,
   "metadata": {},
   "outputs": [
    {
     "data": {
      "application/vnd.jupyter.widget-view+json": {
       "model_id": "b46da1a0e3e849e8a7a698365a3d8289",
       "version_major": 2,
       "version_minor": 0
      },
      "text/plain": [
       "  0%|          | 0/500 [00:00<?, ?it/s]"
      ]
     },
     "metadata": {},
     "output_type": "display_data"
    },
    {
     "name": "stdout",
     "output_type": "stream",
     "text": [
      "CPU times: user 37.4 s, sys: 1.12 s, total: 38.5 s\n",
      "Wall time: 38.4 s\n"
     ]
    }
   ],
   "source": [
    "%%time\n",
    "from tqdm.notebook import tqdm\n",
    "from PIL import Image\n",
    "U, V = init(300)\n",
    "\n",
    "def create_image(grayscott):\n",
    "    global U, V\n",
    "    for t in range(40):\n",
    "        U, V = grayscott(U, V, Du, Dv, F, k)\n",
    "    V_scaled = np.uint8(255*(V-V.min()) / (V.max()-V.min()))\n",
    "    return V_scaled\n",
    "\n",
    "def create_frames(n, grayscott):\n",
    "\n",
    "    return [create_image(grayscott) for i in tqdm(range(n))]\n",
    "    \n",
    "frames = create_frames(500, numpy_grayscott)"
   ]
  },
  {
   "cell_type": "code",
   "execution_count": 59,
   "metadata": {},
   "outputs": [
    {
     "data": {
      "application/vnd.jupyter.widget-view+json": {
       "model_id": "8ab97e6c8a524ec5adb623d50e6200a8",
       "version_major": 2,
       "version_minor": 0
      },
      "text/plain": [
       "interactive(children=(IntSlider(value=0, description='iframe', max=499), Output()), _dom_classes=('widget-inte…"
      ]
     },
     "metadata": {},
     "output_type": "display_data"
    },
    {
     "data": {
      "text/plain": [
       "<function __main__.display_sequence(iframe)>"
      ]
     },
     "execution_count": 59,
     "metadata": {},
     "output_type": "execute_result"
    }
   ],
   "source": [
    "from ipywidgets import interact, IntSlider\n",
    "\n",
    "def display_sequence(iframe):\n",
    "    \n",
    "    return Image.fromarray(frames[iframe])\n",
    "    \n",
    "interact(display_sequence, \n",
    "         iframe=IntSlider(min=0,\n",
    "                          max=len(frames)-1,\n",
    "                          step=1,\n",
    "                          value=0, \n",
    "                          continuous_update=True))"
   ]
  },
  {
   "cell_type": "markdown",
   "metadata": {},
   "source": [
    "- https://www.karlsims.com/rd.html\n",
    "- https://groups.csail.mit.edu/mac/projects/amorphous/GrayScott/\n",
    "- https://itp.uni-frankfurt.de/~gros/StudentProjects/Projects_2020/projekt_schulz_kaefer/\n",
    "- https://pnavaro.github.io/python-fortran/06.gray-scott-model.html\n",
    "- https://en.wikipedia.org/wiki/Discrete_Laplace_operator#Implementation_via_operator_discretization\n",
    "- https://github.com/benmaier/reaction-diffusion/blob/master/gray_scott.ipynb\n"
   ]
  }
 ],
 "metadata": {
  "kernelspec": {
   "display_name": "computation-for-physicochemistry-nHSY1Zdw-py3.10",
   "language": "python",
   "name": "python3"
  },
  "language_info": {
   "codemirror_mode": {
    "name": "ipython",
    "version": 3
   },
   "file_extension": ".py",
   "mimetype": "text/x-python",
   "name": "python",
   "nbconvert_exporter": "python",
   "pygments_lexer": "ipython3",
   "version": "3.10.12"
  }
 },
 "nbformat": 4,
 "nbformat_minor": 2
}
